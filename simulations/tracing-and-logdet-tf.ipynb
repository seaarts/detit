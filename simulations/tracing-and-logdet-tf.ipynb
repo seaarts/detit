{
 "cells": [
  {
   "cell_type": "markdown",
   "metadata": {},
   "source": [
    "# Comparing log-determinants and tracing in tensorflow"
   ]
  },
  {
   "cell_type": "code",
   "execution_count": 1,
   "metadata": {},
   "outputs": [],
   "source": [
    "import numpy as np\n",
    "import tensorflow as tf"
   ]
  },
  {
   "cell_type": "code",
   "execution_count": 2,
   "metadata": {},
   "outputs": [],
   "source": [
    "# fix generator for random numbers\n",
    "rng = np.random.default_rng(seed=145452452)"
   ]
  },
  {
   "cell_type": "code",
   "execution_count": 3,
   "metadata": {},
   "outputs": [],
   "source": [
    "def logdet(tensor):\n",
    "    \"\"\"Compute the log-determinant of a tensor\n",
    "    \n",
    "    Parameters\n",
    "    ----------\n",
    "    tensor : tf.Tensor\n",
    "        Should have shape [k, n, n]\n",
    "    \n",
    "    Returns\n",
    "    logdet : tf.double \n",
    "        Log-determinant summed over 0th axis.\n",
    "    \"\"\"\n",
    "    return tf.math.reduce_sum(tf.linalg.logdet(tensor), axis=0)"
   ]
  },
  {
   "cell_type": "code",
   "execution_count": 4,
   "metadata": {},
   "outputs": [
    {
     "name": "stdout",
     "output_type": "stream",
     "text": [
      "(50, 100, 100)\n",
      "(50, 100, 100)\n"
     ]
    }
   ],
   "source": [
    "# sample psd symmetrtic matrices\n",
    "N = 50\n",
    "Bs = [rng.uniform(size=(100, 10)) for _ in range(N)]\n",
    "As = [B @ B.T  + 0.1 + np.eye(100) for B in Bs]\n",
    "arr = np.stack(As, axis=0)\n",
    "print(arr.shape)\n",
    "mat = tf.constant(arr, dtype=tf.double)\n",
    "print(mat.shape)"
   ]
  },
  {
   "cell_type": "code",
   "execution_count": 5,
   "metadata": {},
   "outputs": [
    {
     "name": "stdout",
     "output_type": "stream",
     "text": [
      "691 µs ± 7.72 µs per loop (mean ± std. dev. of 7 runs, 1,000 loops each)\n"
     ]
    }
   ],
   "source": [
    "%%timeit\n",
    "logdet(mat)"
   ]
  },
  {
   "cell_type": "code",
   "execution_count": 6,
   "metadata": {},
   "outputs": [],
   "source": [
    "@tf.function()\n",
    "def logdet(tensor):\n",
    "    \"\"\"Compute the log-determinant of a tensor\n",
    "    \n",
    "    Parameters\n",
    "    ----------\n",
    "    tensor : tf.Tensor\n",
    "        Should have shape [k, n, n]\n",
    "    \n",
    "    Returns\n",
    "    logdet : tf.double \n",
    "        Log-determinant summed over 0th axis.\n",
    "    \"\"\"\n",
    "    return tf.math.reduce_sum(tf.linalg.logdet(tensor), axis=0)"
   ]
  },
  {
   "cell_type": "code",
   "execution_count": 7,
   "metadata": {},
   "outputs": [
    {
     "name": "stdout",
     "output_type": "stream",
     "text": [
      "1277.53\n"
     ]
    },
    {
     "name": "stderr",
     "output_type": "stream",
     "text": [
      "2022-12-23 17:11:03.022629: W tensorflow/core/platform/profile_utils/cpu_utils.cc:128] Failed to get CPU frequency: 0 Hz\n"
     ]
    }
   ],
   "source": [
    "# run once to engage tracing\n",
    "val = logdet(arr)\n",
    "print(f\"{val:.2f}\")"
   ]
  },
  {
   "cell_type": "code",
   "execution_count": 8,
   "metadata": {},
   "outputs": [
    {
     "name": "stdout",
     "output_type": "stream",
     "text": [
      "773 µs ± 77 µs per loop (mean ± std. dev. of 7 runs, 1,000 loops each)\n"
     ]
    }
   ],
   "source": [
    "%%timeit\n",
    "logdet(mat)"
   ]
  },
  {
   "cell_type": "markdown",
   "metadata": {},
   "source": []
  }
 ],
 "metadata": {
  "kernelspec": {
   "display_name": "Python 3.9.13 ('env': venv)",
   "language": "python",
   "name": "python3"
  },
  "language_info": {
   "codemirror_mode": {
    "name": "ipython",
    "version": 3
   },
   "file_extension": ".py",
   "mimetype": "text/x-python",
   "name": "python",
   "nbconvert_exporter": "python",
   "pygments_lexer": "ipython3",
   "version": "3.9.13"
  },
  "orig_nbformat": 4,
  "vscode": {
   "interpreter": {
    "hash": "01ccd66837015d74c0a11cdffbba4b828a6c39ba14f3408ed8dfe4a4df4168a9"
   }
  }
 },
 "nbformat": 4,
 "nbformat_minor": 2
}
